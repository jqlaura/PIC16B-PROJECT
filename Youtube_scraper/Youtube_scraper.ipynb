{
 "cells": [
  {
   "cell_type": "code",
   "execution_count": 86,
   "id": "a83a14c5",
   "metadata": {},
   "outputs": [],
   "source": [
    "from selenium import webdriver \n",
    "import time\n",
    "from webdriver_manager.chrome import ChromeDriverManager\n",
    "import pandas as pd \n",
    "from selenium.webdriver.common.by import By \n",
    "from selenium.webdriver.support.ui import WebDriverWait \n",
    "from selenium.webdriver.support import expected_conditions as EC"
   ]
  },
  {
   "cell_type": "code",
   "execution_count": 144,
   "id": "14c97dc9",
   "metadata": {},
   "outputs": [
    {
     "name": "stderr",
     "output_type": "stream",
     "text": [
      "\n",
      "\n",
      "====== WebDriver manager ======\n",
      "Current google-chrome version is 98.0.4758\n",
      "Get LATEST chromedriver version for 98.0.4758 google-chrome\n",
      "Driver [/Users/jiaqili/.wdm/drivers/chromedriver/mac64/98.0.4758.102/chromedriver] found in cache\n",
      "/var/folders/4g/w5d1ppp147qdcbpx_dd86zs40000gn/T/ipykernel_2284/2252700013.py:1: DeprecationWarning: executable_path has been deprecated, please pass in a Service object\n",
      "  driver = webdriver.Chrome(ChromeDriverManager().install())\n"
     ]
    }
   ],
   "source": [
    "driver = webdriver.Chrome(ChromeDriverManager().install())\n",
    "#define keywords\n",
    "funny = [\"funny+videos\",\"funny+animal+videos\",\"try+not+to+laugh\",\"funny+Tiktok\"]\n",
    "relax = ['stress+relief','relaxing+music','relax+meditation','calming+music'] "
   ]
  },
  {
   "cell_type": "code",
   "execution_count": 152,
   "id": "ea410e40",
   "metadata": {},
   "outputs": [
    {
     "name": "stderr",
     "output_type": "stream",
     "text": [
      "/var/folders/4g/w5d1ppp147qdcbpx_dd86zs40000gn/T/ipykernel_2284/1229238192.py:20: DeprecationWarning: find_elements_by_xpath is deprecated. Please use find_elements(by=By.XPATH, value=xpath) instead\n",
      "  user_data = driver.find_elements_by_xpath('//*[@id=\"video-title\"]')\n"
     ]
    }
   ],
   "source": [
    "links_relax = []\n",
    "texts_relax = []\n",
    "\n",
    "for name in relax:\n",
    "    #go to page\n",
    "    driver.get(\"https://www.youtube.com/results?search_query=\"+name)\n",
    "    SCROLL_PAUSE_TIME = 0.8\n",
    "\n",
    "    #Get scroll height\n",
    "    last_height = driver.execute_script(\"return document.documentElement.scrollHeight\")\n",
    "\n",
    "    counter = 0\n",
    "    while counter < 30:\n",
    "        # Scroll down to bottom\n",
    "        driver.execute_script(\"window.scrollTo(0, document.documentElement.scrollHeight);\")\n",
    "\n",
    "        # Wait to load page\n",
    "        time.sleep(SCROLL_PAUSE_TIME)\n",
    "        counter+=1\n",
    "\n",
    "    user_data = driver.find_elements_by_xpath('//*[@id=\"video-title\"]')\n",
    "    for i in user_data:\n",
    "        links_relax.append(i.get_attribute('href'))    \n",
    "        texts_relax.append(i.get_attribute(\"title\"))"
   ]
  },
  {
   "cell_type": "code",
   "execution_count": 153,
   "id": "93205fa2",
   "metadata": {},
   "outputs": [],
   "source": [
    "#get rid of None values\n",
    "texts_relax2 = [texts_relax[i] for i in range(len(links_relax)) if links_relax[i]]\n",
    "links_relax2 = [link for link in links_relax if link]"
   ]
  },
  {
   "cell_type": "code",
   "execution_count": 155,
   "id": "31bb9878",
   "metadata": {},
   "outputs": [],
   "source": [
    "df_relax = pd.DataFrame(\n",
    "    {'link': links_relax2,\n",
    "     'title': texts_relax2\n",
    "    })\n",
    "df_relax.to_csv(\"relax.csv\")"
   ]
  },
  {
   "cell_type": "code",
   "execution_count": null,
   "id": "12ae4b45",
   "metadata": {},
   "outputs": [],
   "source": [
    "links_funny = []\n",
    "texts_funny = []\n",
    "\n",
    "for name in funny:\n",
    "    driver.get(\"https://www.youtube.com/results?search_query=\"+name)\n",
    "    SCROLL_PAUSE_TIME = 0.8\n",
    "\n",
    "    # Get scroll height\n",
    "    last_height = driver.execute_script(\"return document.documentElement.scrollHeight\")\n",
    "\n",
    "    counter = 0\n",
    "    while counter < 30:\n",
    "        # Scroll down to bottom\n",
    "        driver.execute_script(\"window.scrollTo(0, document.documentElement.scrollHeight);\")\n",
    "\n",
    "        # Wait to load page\n",
    "        time.sleep(SCROLL_PAUSE_TIME)\n",
    "        counter+=1\n",
    "\n",
    "    user_data = driver.find_elements_by_xpath('//*[@id=\"video-title\"]')\n",
    "    for i in user_data:\n",
    "        links_funny.append(i.get_attribute('href'))    \n",
    "        texts_funny.append(i.get_attribute(\"title\"))"
   ]
  },
  {
   "cell_type": "code",
   "execution_count": null,
   "id": "e869f596",
   "metadata": {},
   "outputs": [],
   "source": [
    "texts_funny2 = [texts_funny[i] for i in range(len(links_funny)) if links_funny[i]]\n",
    "links_funny2 = [link for link in links_funny if link]"
   ]
  },
  {
   "cell_type": "code",
   "execution_count": 138,
   "id": "d8f111c8",
   "metadata": {},
   "outputs": [],
   "source": [
    "df_funny = pd.DataFrame(\n",
    "    {'link': links_funny2,\n",
    "     'title': texts_funny2\n",
    "    })"
   ]
  },
  {
   "cell_type": "code",
   "execution_count": 143,
   "id": "0d8a22f6",
   "metadata": {},
   "outputs": [],
   "source": [
    "df_funny.to_csv(\"funny.csv\")"
   ]
  },
  {
   "cell_type": "code",
   "execution_count": null,
   "id": "85fdb079",
   "metadata": {},
   "outputs": [],
   "source": []
  },
  {
   "cell_type": "code",
   "execution_count": null,
   "id": "d4302afc",
   "metadata": {},
   "outputs": [],
   "source": []
  },
  {
   "cell_type": "code",
   "execution_count": null,
   "id": "ddf9f720",
   "metadata": {},
   "outputs": [],
   "source": []
  },
  {
   "cell_type": "code",
   "execution_count": null,
   "id": "fb01e4b2",
   "metadata": {},
   "outputs": [],
   "source": []
  },
  {
   "cell_type": "code",
   "execution_count": null,
   "id": "66679493",
   "metadata": {},
   "outputs": [],
   "source": []
  },
  {
   "cell_type": "code",
   "execution_count": null,
   "id": "607fe5db",
   "metadata": {},
   "outputs": [],
   "source": []
  }
 ],
 "metadata": {
  "kernelspec": {
   "display_name": "Python 3 (ipykernel)",
   "language": "python",
   "name": "python3"
  },
  "language_info": {
   "codemirror_mode": {
    "name": "ipython",
    "version": 3
   },
   "file_extension": ".py",
   "mimetype": "text/x-python",
   "name": "python",
   "nbconvert_exporter": "python",
   "pygments_lexer": "ipython3",
   "version": "3.8.12"
  }
 },
 "nbformat": 4,
 "nbformat_minor": 5
}
